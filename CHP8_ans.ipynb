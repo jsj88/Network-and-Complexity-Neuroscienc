{
 "cells": [
  {
   "cell_type": "code",
   "execution_count": 4,
   "id": "57acc565-dea9-496b-ab06-68f00f552ca8",
   "metadata": {},
   "outputs": [],
   "source": [
    "import matplotlib.pyplot as plt\n",
    "import numpy as np\n",
    "\n",
    "\n",
    "from os.path import basename, exists\n",
    "\n",
    "def download(url):\n",
    "    filename = basename(url)\n",
    "    if not exists(filename):\n",
    "        from urllib.request import urlretrieve\n",
    "        local, _ = urlretrieve(url, filename)\n",
    "        print('Downloaded ' + local)\n",
    "    \n",
    "download('https://github.com/AllenDowney/ThinkComplexity2/raw/master/notebooks/utils.py')\n",
    "download('https://github.com/AllenDowney/ThinkComplexity2/raw/master/notebooks/Cell1D.py')\n",
    "download('https://github.com/AllenDowney/ThinkComplexity2/raw/master/notebooks/Cell2D.py')\n",
    "\n",
    "\n",
    "from utils import decorate, savefig\n",
    "# make a directory for figures\n",
    "!mkdir -p figs"
   ]
  },
  {
   "cell_type": "code",
   "execution_count": 5,
   "id": "a596e246-0983-4239-afa5-b68d9cb72144",
   "metadata": {},
   "outputs": [],
   "source": [
    "import itertools\n",
    "from scipy.signal import correlate2d\n",
    "from Cell2D import Cell2D, draw_array\n",
    "\n",
    "class SandPile(Cell2D):\n",
    "    \"\"\"Diffusion Cellular Automaton.\"\"\"\n",
    "\n",
    "    kernel = np.array([[0, 1, 0],\n",
    "                       [1,-4, 1],\n",
    "                       [0, 1, 0]], dtype=np.int32)\n",
    "\n",
    "    def __init__(self, n, m=None, level=9):\n",
    "        \"\"\"Initializes the attributes.\n",
    "\n",
    "        n: number of rows\n",
    "        m: number of columns\n",
    "        level: starting value for all cells\n",
    "        \"\"\"\n",
    "        m = n if m is None else m\n",
    "        self.array = np.ones((n, m), dtype=np.int32) * level\n",
    "        self.toppled_seq = []\n",
    "\n",
    "    def step(self, K=3):\n",
    "        \"\"\"Executes one time step.\n",
    "        \n",
    "        returns: number of cells that toppled\n",
    "        \"\"\"\n",
    "        toppling = self.array > K\n",
    "        num_toppled = np.sum(toppling)\n",
    "        self.toppled_seq.append(num_toppled)\n",
    "\n",
    "        c = correlate2d(toppling, self.kernel, mode='same')\n",
    "        self.array += c\n",
    "        return num_toppled\n",
    "    \n",
    "    def drop(self):\n",
    "        \"\"\"Increments a random cell.\"\"\"\n",
    "        a = self.array\n",
    "        n, m = a.shape\n",
    "        index = np.random.randint(n), np.random.randint(m)\n",
    "        a[index] += 1\n",
    "    \n",
    "    def run(self):\n",
    "        \"\"\"Runs until equilibrium.\n",
    "        \n",
    "        returns: duration, total number of topplings\n",
    "        \"\"\"\n",
    "        total = 0\n",
    "        for i in itertools.count(1):\n",
    "            num_toppled = self.step()\n",
    "            total += num_toppled\n",
    "            if num_toppled == 0:\n",
    "                return i, total\n",
    "\n",
    "    def drop_and_run(self):\n",
    "        \"\"\"Drops a random grain and runs to equilibrium.\n",
    "        \n",
    "        returns: duration, total_toppled\n",
    "        \"\"\"\n",
    "        self.drop()\n",
    "        duration, total_toppled = self.run()\n",
    "        return duration, total_toppled\n",
    "    \n",
    "    def draw(self):\n",
    "        \"\"\"Draws the cells.\"\"\"\n",
    "        draw_array(self.array, cmap='YlOrRd', vmax=5)"
   ]
  },
  {
   "cell_type": "code",
   "execution_count": 8,
   "id": "e619517f-fd97-4f66-a4b9-618a654280a5",
   "metadata": {},
   "outputs": [
    {
     "ename": "NameError",
     "evalue": "name 'pile2' is not defined",
     "output_type": "error",
     "traceback": [
      "\u001b[0;31m---------------------------------------------------------------------------\u001b[0m",
      "\u001b[0;31mNameError\u001b[0m                                 Traceback (most recent call last)",
      "\u001b[0;32m<timed exec>\u001b[0m in \u001b[0;36m<module>\u001b[0;34m\u001b[0m\n",
      "\u001b[0;32m<timed exec>\u001b[0m in \u001b[0;36m<listcomp>\u001b[0;34m(.0)\u001b[0m\n",
      "\u001b[0;31mNameError\u001b[0m: name 'pile2' is not defined"
     ]
    },
    {
     "ename": "NameError",
     "evalue": "name 'res' is not defined",
     "output_type": "error",
     "traceback": [
      "\u001b[0;31m---------------------------------------------------------------------------\u001b[0m",
      "\u001b[0;31mNameError\u001b[0m                                 Traceback (most recent call last)",
      "\u001b[0;32m<ipython-input-8-52bb940afe12>\u001b[0m in \u001b[0;36m<module>\u001b[0;34m\u001b[0m\n\u001b[1;32m      5\u001b[0m \u001b[0;34m\u001b[0m\u001b[0m\n\u001b[1;32m      6\u001b[0m \u001b[0;34m\u001b[0m\u001b[0m\n\u001b[0;32m----> 7\u001b[0;31m \u001b[0mT\u001b[0m\u001b[0;34m,\u001b[0m \u001b[0mS\u001b[0m \u001b[0;34m=\u001b[0m \u001b[0mnp\u001b[0m\u001b[0;34m.\u001b[0m\u001b[0mtranspose\u001b[0m\u001b[0;34m(\u001b[0m\u001b[0mres\u001b[0m\u001b[0;34m)\u001b[0m\u001b[0;34m\u001b[0m\u001b[0;34m\u001b[0m\u001b[0m\n\u001b[0m",
      "\u001b[0;31mNameError\u001b[0m: name 'res' is not defined"
     ]
    }
   ],
   "source": [
    "np.random.seed(128)\n",
    "\n",
    "iters = 100000\n",
    "%time \n",
    "res = [pile2.drop_and_run() for _ in range(iters)]\n",
    "\n",
    "\n",
    "T, S = np.transpose(res)\n"
   ]
  },
  {
   "cell_type": "code",
   "execution_count": 7,
   "id": "47216b75-bd65-490c-8573-f416cf7d9b5f",
   "metadata": {},
   "outputs": [
    {
     "name": "stdout",
     "output_type": "stream",
     "text": [
      "Collecting empiricaldist\n",
      "  Downloading empiricaldist-0.6.3.tar.gz (9.3 kB)\n",
      "  Preparing metadata (setup.py) ... \u001b[?25ldone\n",
      "\u001b[?25hBuilding wheels for collected packages: empiricaldist\n",
      "  Building wheel for empiricaldist (setup.py) ... \u001b[?25ldone\n",
      "\u001b[?25h  Created wheel for empiricaldist: filename=empiricaldist-0.6.3-py3-none-any.whl size=10545 sha256=1886e596ebf9b597187c409ad693f57b6b8f525e8d1b0f969f5c83ab3f0ae22d\n",
      "  Stored in directory: /Users/jaleesastringfellow/Library/Caches/pip/wheels/f4/48/c1/603790e9696a1e2dd56c1e2a306d47379f02d8c75750645f02\n",
      "Successfully built empiricaldist\n",
      "Installing collected packages: empiricaldist\n",
      "Successfully installed empiricaldist-0.6.3\n"
     ]
    },
    {
     "ename": "NameError",
     "evalue": "name 'S' is not defined",
     "output_type": "error",
     "traceback": [
      "\u001b[0;31m---------------------------------------------------------------------------\u001b[0m",
      "\u001b[0;31mNameError\u001b[0m                                 Traceback (most recent call last)",
      "\u001b[0;32m<ipython-input-7-88336d72409a>\u001b[0m in \u001b[0;36m<module>\u001b[0;34m\u001b[0m\n\u001b[1;32m      3\u001b[0m \u001b[0;32mfrom\u001b[0m \u001b[0mempiricaldist\u001b[0m \u001b[0;32mimport\u001b[0m \u001b[0mCdf\u001b[0m\u001b[0;34m\u001b[0m\u001b[0;34m\u001b[0m\u001b[0m\n\u001b[1;32m      4\u001b[0m \u001b[0;34m\u001b[0m\u001b[0m\n\u001b[0;32m----> 5\u001b[0;31m \u001b[0mcdf\u001b[0m \u001b[0;34m=\u001b[0m \u001b[0mCdf\u001b[0m\u001b[0;34m.\u001b[0m\u001b[0mfrom_seq\u001b[0m\u001b[0;34m(\u001b[0m\u001b[0mS\u001b[0m\u001b[0;34m)\u001b[0m\u001b[0;34m\u001b[0m\u001b[0;34m\u001b[0m\u001b[0m\n\u001b[0m",
      "\u001b[0;31mNameError\u001b[0m: name 'S' is not defined"
     ]
    }
   ],
   "source": [
    "#!pip install empiricaldist\n",
    "\n",
    "from empiricaldist import Cdf\n",
    "\n",
    "cdf = Cdf.from_seq(S)"
   ]
  },
  {
   "cell_type": "code",
   "execution_count": null,
   "id": "65eaafcf-1d10-4923-81f0-4589dae5a0af",
   "metadata": {},
   "outputs": [],
   "source": []
  },
  {
   "cell_type": "code",
   "execution_count": 12,
   "id": "9a8e1611-9f65-4dc6-b20c-611875d77bde",
   "metadata": {},
   "outputs": [],
   "source": [
    "\n",
    "def plot_cdf(series, label, xlabel):\n",
    "    plt.figure(figsize=(10, 5))\n",
    "    plt.subplot(1, 2, 1)\n",
    "\n",
    "    cdf = Cdf.from_seq(S)\n",
    "    cdf.step(label=label)\n",
    "    decorate(xlabel=xlabel,\n",
    "             ylabel='Cdf',\n",
    "             xscale='log')\n",
    "\n",
    "    plt.subplot(1, 2, 2)\n",
    "\n",
    "    (1-cdf).plot(label=label)\n",
    "    decorate(xlabel=xlabel,\n",
    "             xscale='log',\n",
    "             yscale='log')"
   ]
  },
  {
   "cell_type": "code",
   "execution_count": 19,
   "id": "3f6664f0-80d6-4511-b8b3-82c2b58a9f6f",
   "metadata": {},
   "outputs": [
    {
     "name": "stdout",
     "output_type": "stream",
     "text": [
      "CPU times: user 1e+03 ns, sys: 1e+03 ns, total: 2 µs\n",
      "Wall time: 3.1 µs\n"
     ]
    },
    {
     "data": {
      "image/png": "[encoded data removed]",
      "text/plain": [
       "<Figure size 432x288 with 1 Axes>"
      ]
     },
     "metadata": {},
     "output_type": "display_data"
    }
   ],
   "source": [
    "pile2 = SandPile(n=50, level=30)\n",
    "pile2.run()\n",
    "pile2.draw()\n",
    "\n",
    "\n",
    "np.random.seed(50)\n",
    "\n",
    "iters = 1000\n",
    "%time \n",
    "res = [pile2.drop_and_run() for _ in range(iters)]\n",
    "\n"
   ]
  },
  {
   "cell_type": "code",
   "execution_count": 20,
   "id": "f3db314e-ccdd-4214-94aa-e6f11c2c9a6f",
   "metadata": {},
   "outputs": [],
   "source": [
    "T, S = np.transpose(res)"
   ]
  },
  {
   "cell_type": "code",
   "execution_count": 21,
   "id": "1c0dd1c0-07ab-4af2-a933-686d370f61d5",
   "metadata": {},
   "outputs": [],
   "source": [
    "T = T[T>1]\n",
    "S = S[S>0]"
   ]
  },
  {
   "cell_type": "code",
   "execution_count": 22,
   "id": "7ff6e958-5030-4a51-b879-6ff28ae6b68b",
   "metadata": {},
   "outputs": [
    {
     "data": {
      "image/png": "[encoded data removed]",
      "text/plain": [
       "<Figure size 720x360 with 2 Axes>"
      ]
     },
     "metadata": {
      "needs_background": "light"
     },
     "output_type": "display_data"
    }
   ],
   "source": [
    "plot_cdf(S, 'S', xlabel='Avalance size')"
   ]
  },
  {
   "cell_type": "code",
   "execution_count": 23,
   "id": "5e4a8ec1-d2da-47af-934b-e505811ee3d0",
   "metadata": {},
   "outputs": [
    {
     "data": {
      "image/png": "[encoded data removed]",
      "text/plain": [
       "<Figure size 720x360 with 2 Axes>"
      ]
     },
     "metadata": {
      "needs_background": "light"
     },
     "output_type": "display_data"
    }
   ],
   "source": [
    "plot_cdf(T, 'T', xlabel='Avalance duration')"
   ]
  },
  {
   "cell_type": "code",
   "execution_count": 25,
   "id": "1e9e6502-7ee5-4395-adf3-37b37b40e87b",
   "metadata": {},
   "outputs": [],
   "source": [
    "\n",
    "def draw_four(pile, levels=range(4)):\n",
    "    plt.figure(figsize=(8, 8))\n",
    "    for i, level in enumerate(levels):\n",
    "        plt.subplot(2, 2, i+1)\n",
    "        draw_array(pile.array==level, cmap='YlOrRd', vmax=1)\n",
    "    \n",
    "    plt.tight_layout()\n",
    "    \n",
    "    "
   ]
  },
  {
   "cell_type": "code",
   "execution_count": null,
   "id": "c6f1cb35-8814-46a2-8b0e-7c406fdf9b51",
   "metadata": {},
   "outputs": [],
   "source": [
    "pile4 = SandPile(n=128, level=14)\n",
    "pile4.run()\n",
    "draw_four(pile4)\n",
    "\n",
    "\n",
    "\n",
    "for i in range(1000):\n",
    "    pile4.drop_and_run()\n",
    "    \n",
    "draw_four(pile4)\n",
    "\n",
    "dims = box_count_four(pile4)\n",
    "\n",
    "for i, dim in enumerate(dims):\n",
    "    print('%d  %0.3f' % (i, dim))\n"
   ]
  },
  {
   "cell_type": "code",
   "execution_count": null,
   "id": "2d2c04d7-8575-40a4-98f9-13e17f2d7c73",
   "metadata": {},
   "outputs": [],
   "source": [
    "def single_source(pile, height=1024):\n",
    "    \"\"\"Adds a tower to the center cell.\n",
    "    \n",
    "    height: value assigned to the center cell\n",
    "    \"\"\"\n",
    "    a = pile.array\n",
    "    n, m = a.shape\n",
    "    a[:, :] = 0\n",
    "    a[n//2, m//2] = height\n",
    "    \n",
    "    \n",
    "    \n",
    "def run_ss_pile(n, k=10):\n",
    "    \"\"\"Runs a single source model.\n",
    "    \n",
    "    k: integer power of two of height\n",
    "    \"\"\"\n",
    "    pile = SandPile(n)\n",
    "    single_source(pile, 2**k)\n",
    "    print(pile.run())        \n",
    "    return pile"
   ]
  },
  {
   "cell_type": "code",
   "execution_count": null,
   "id": "2bde6696-d5bd-4934-ac03-4ec957490385",
   "metadata": {},
   "outputs": [],
   "source": [
    "pile5 = run_ss_pile(n=128, k=14)\n",
    "pile5.draw()\n",
    "\n",
    "draw_four(pile5)\n",
    "\n",
    "dims = box_count_four(pile5)\n",
    "\n",
    "for i, dim in enumerate(dims):\n",
    "    print('%d  %0.3f' % (i, dim))"
   ]
  },
  {
   "cell_type": "code",
   "execution_count": null,
   "id": "a3fe0ea2-6ebd-40eb-a3e9-ded6ec8c0cf3",
   "metadata": {},
   "outputs": [],
   "source": []
  }
 ],
 "metadata": {
  "kernelspec": {
   "display_name": "Python 3",
   "language": "python",
   "name": "python3"
  },
  "language_info": {
   "codemirror_mode": {
    "name": "ipython",
    "version": 3
   },
   "file_extension": ".py",
   "mimetype": "text/x-python",
   "name": "python",
   "nbconvert_exporter": "python",
   "pygments_lexer": "ipython3",
   "version": "3.8.8"
  }
 },
 "nbformat": 4,
 "nbformat_minor": 5
}
