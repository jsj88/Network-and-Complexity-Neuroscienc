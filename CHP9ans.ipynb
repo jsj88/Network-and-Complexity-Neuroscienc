{
 "cells": [
  {
   "cell_type": "code",
   "execution_count": 17,
   "id": "ac824814-0fa6-437c-88e8-26bf81399da8",
   "metadata": {},
   "outputs": [],
   "source": [
    "import matplotlib.pyplot as plt\n",
    "import numpy as np\n",
    "\n",
    "from os.path import basename, exists\n",
    "\n",
    "def download(url):\n",
    "    filename = basename(url)\n",
    "    if not exists(filename):\n",
    "        from urllib.request import urlretrieve\n",
    "        local, _ = urlretrieve(url, filename)\n",
    "        print('Downloaded ' + local)\n",
    "    \n",
    "download('https://github.com/AllenDowney/ThinkComplexity2/raw/master/notebooks/utils.py')\n",
    "download('https://github.com/AllenDowney/ThinkComplexity2/raw/master/notebooks/Cell2D.py')\n",
    "\n",
    "from utils import decorate, savefig\n",
    "# make a directory for figures\n",
    "!mkdir -p figs\n",
    "\n",
    "try:\n",
    "    import empiricaldist\n",
    "except ImportError:\n",
    "    !pip install empiricaldist"
   ]
  },
  {
   "cell_type": "code",
   "execution_count": 18,
   "id": "1a4b7380-f210-4b75-bcad-804b4c0acf18",
   "metadata": {},
   "outputs": [],
   "source": [
    "import seaborn as sns\n",
    "from matplotlib.colors import LinearSegmentedColormap\n",
    "\n",
    "# make a custom color map\n",
    "palette = sns.color_palette('muted')\n",
    "colors = 'white', palette[1], palette[0]\n",
    "cmap = LinearSegmentedColormap.from_list('cmap', colors)"
   ]
  },
  {
   "cell_type": "code",
   "execution_count": 30,
   "id": "2fb6829b-2af0-464e-9276-1274e1d9f3d3",
   "metadata": {},
   "outputs": [],
   "source": [
    "def make_locs(n, m):\n",
    "    \"\"\"Makes array where each row is an index in an `n` by `m` grid.\n",
    "    \n",
    "    n: int number of rows\n",
    "    m: int number of cols\n",
    "    \n",
    "    returns: NumPy array\n",
    "    \"\"\"\n",
    "    t = [(i, j) for i in range(n) for j in range(m)]\n",
    "    return np.array(t)"
   ]
  },
  {
   "cell_type": "code",
   "execution_count": 31,
   "id": "15cabb80-0388-4a5c-9f08-4b9779d7b2a0",
   "metadata": {},
   "outputs": [],
   "source": [
    "def distances_from(n, i, j):\n",
    "    \"\"\"Computes an array of distances.\n",
    "    \n",
    "    n: size of the array\n",
    "    i, j: coordinates to find distance from\n",
    "    \n",
    "    returns: array of float\n",
    "    \"\"\"\n",
    "    X, Y = np.indices((n, n))\n",
    "    return np.hypot(X-i, Y-j)"
   ]
  },
  {
   "cell_type": "code",
   "execution_count": 44,
   "id": "b8e52876-704f-479b-9fbc-714c0b871310",
   "metadata": {},
   "outputs": [],
   "source": [
    "def make_visible_locs(vision):\n",
    "    \"\"\"Computes the kernel of visible cells.\n",
    "        \n",
    "    vision: int distance\n",
    "    \"\"\"\n",
    "    def make_array(d):\n",
    "        \"\"\"Generates visible cells with increasing distance.\"\"\"\n",
    "        a = np.array([[-d, 0], [d, 0], [0, -d], [0, d]])\n",
    "        np.random.shuffle(a)\n",
    "        return a\n",
    "                     \n",
    "    arrays = [make_array(d) for d in range(1, vision+1)]\n",
    "    return np.vstack(arrays)"
   ]
  },
  {
   "cell_type": "code",
   "execution_count": 32,
   "id": "fa9fb657-ce1b-4bcd-a755-f5ce90b6870b",
   "metadata": {},
   "outputs": [],
   "source": [
    "def locs_where(condition):\n",
    "    \"\"\"Find cells where a logical array is True.\n",
    "    \n",
    "    condition: logical array\n",
    "    \n",
    "    returns: list of location tuples\n",
    "    \"\"\"\n",
    "    return list(zip(*np.nonzero(condition)))"
   ]
  },
  {
   "cell_type": "code",
   "execution_count": 33,
   "id": "30f2bf07-2044-4e44-9086-92816d8df588",
   "metadata": {},
   "outputs": [],
   "source": [
    "from scipy.signal import correlate2d\n",
    "from Cell2D import Cell2D, draw_array\n",
    "\n",
    "class Schelling(Cell2D):\n",
    "    \"\"\"Represents a grid of Schelling agents.\"\"\"\n",
    "    \n",
    "    options = dict(mode='same', boundary='wrap')\n",
    "\n",
    "    kernel = np.array([[1, 1, 1],\n",
    "                       [1, 0, 1],\n",
    "                       [1, 1, 1]], dtype=np.int8)\n",
    "    \n",
    "    def __init__(self, n, p):\n",
    "        \"\"\"Initializes the attributes.\n",
    "\n",
    "        n: number of rows\n",
    "        p: threshold on the fraction of similar neighbors\n",
    "        \"\"\"\n",
    "        self.p = p\n",
    "        # 0 is empty, 1 is red, 2 is blue\n",
    "        choices = np.array([0, 1, 2], dtype=np.int8)\n",
    "        probs = [0.1, 0.45, 0.45]\n",
    "        self.array = np.random.choice(choices, (n, n), p=probs)\n",
    "\n",
    "    def count_neighbors(self):\n",
    "        \"\"\"Surveys neighboring cells.\n",
    "        \n",
    "        returns: tuple of\n",
    "            empty: True where cells are empty\n",
    "            frac_red: fraction of red neighbors around each cell\n",
    "            frac_blue: fraction of blue neighbors around each cell\n",
    "            frac_same: fraction of neighbors with the same color\n",
    "        \"\"\"\n",
    "        a = self.array\n",
    "        \n",
    "        empty = a==0\n",
    "        red = a==1\n",
    "        blue = a==2\n",
    "\n",
    "        # count red neighbors, blue neighbors, and total\n",
    "        num_red = correlate2d(red, self.kernel, **self.options)\n",
    "        num_blue = correlate2d(blue, self.kernel, **self.options)\n",
    "        num_neighbors = num_red + num_blue\n",
    "\n",
    "        # compute fraction of similar neighbors\n",
    "        frac_red = num_red / num_neighbors\n",
    "        frac_blue = num_blue / num_neighbors\n",
    "        \n",
    "        # no neighbors is considered the same as no similar neighbors \n",
    "        # (this is an arbitrary choice for a rare event)\n",
    "        frac_red[num_neighbors == 0] = 0\n",
    "        frac_blue[num_neighbors == 0] = 0\n",
    "        \n",
    "        # for each cell, compute the fraction of neighbors with the same color\n",
    "        frac_same = np.where(red, frac_red, frac_blue)\n",
    "\n",
    "        # for empty cells, frac_same is NaN\n",
    "        frac_same[empty] = np.nan\n",
    "        \n",
    "        return empty, frac_red, frac_blue, frac_same\n",
    "\n",
    "    def segregation(self):\n",
    "        \"\"\"Computes the average fraction of similar neighbors.\n",
    "        \n",
    "        returns: fraction of similar neighbors, averaged over cells\n",
    "        \"\"\"\n",
    "        _, _, _, frac_same = self.count_neighbors()\n",
    "        return np.nanmean(frac_same)\n",
    "    \n",
    "    def step(self):\n",
    "        \"\"\"Executes one time step.\n",
    "                \n",
    "        returns: fraction of similar neighbors, averaged over cells\n",
    "        \"\"\"\n",
    "        a = self.array\n",
    "        empty, _, _, frac_same = self.count_neighbors()\n",
    "        \n",
    "        # find the unhappy cells (ignore NaN in frac_same)\n",
    "        with np.errstate(invalid='ignore'):\n",
    "            unhappy = frac_same < self.p\n",
    "        unhappy_locs = locs_where(unhappy)\n",
    "        \n",
    "        # find the empty cells\n",
    "        empty_locs = locs_where(empty)\n",
    "\n",
    "        # shuffle the unhappy cells\n",
    "        if len(unhappy_locs):\n",
    "            np.random.shuffle(unhappy_locs)\n",
    "            \n",
    "        # for each unhappy cell, choose a random destination\n",
    "        num_empty = np.sum(empty)\n",
    "        \n",
    "        for source in unhappy_locs:\n",
    "            i = np.random.randint(num_empty)\n",
    "            dest = empty_locs[i]\n",
    "            \n",
    "            # move\n",
    "            a[dest] = a[source]\n",
    "            a[source] = 0\n",
    "            empty_locs[i] = source\n",
    "        \n",
    "            # check that the number of empty cells is unchanged\n",
    "            num_empty2 = np.sum(a==0)\n",
    "            assert num_empty == num_empty2\n",
    "        \n",
    "        # return the average fraction of similar neighbors\n",
    "        return np.nanmean(frac_same)\n",
    "        \n",
    "    def draw(self):\n",
    "        \"\"\"Draws the cells.\"\"\"\n",
    "        return draw_array(self.array, cmap=cmap, vmax=2)"
   ]
  },
  {
   "cell_type": "code",
   "execution_count": 34,
   "id": "343e3625-fc3b-41ce-b0b7-172bd4c0f4b8",
   "metadata": {},
   "outputs": [],
   "source": [
    "\n",
    "class BigSort(Schelling):\n",
    "    \n",
    "    def __init__(self, n, m=None, num_comps=2):\n",
    "        self.num_comps = num_comps\n",
    "        super().__init__(n, m)\n",
    "\n",
    "    def step(self, prob_move=0.1):\n",
    "        a = self.array\n",
    "        \n",
    "        empty, frac_red, frac_blue, frac_same = self.count_neighbors()\n",
    "\n",
    "        num_empty = np.sum(empty)\n",
    "        empty_locs = locs_where(empty)\n",
    "        \n",
    "        r = np.random.random(a.shape)\n",
    "        unhappy_locs = locs_where(~empty & (r < prob_move))\n",
    "\n",
    "        if len(unhappy_locs):\n",
    "            np.random.shuffle(unhappy_locs)\n",
    "            \n",
    "        for source in unhappy_locs:\n",
    "            \n",
    "            choices = []\n",
    "            indices = np.random.randint(num_empty, size=self.num_comps)\n",
    "            dests = [empty_locs[i] for i in indices]\n",
    "            fracs = [frac_red[dest] for dest in dests]\n",
    "            choices = zip(fracs, indices, dests)\n",
    "            \n",
    "            if a[source] == 1:\n",
    "                frac, i, dest = max(choices)\n",
    "            else:\n",
    "                frac, i, dest = min(choices)\n",
    "\n",
    "            a[dest] = a[source]\n",
    "            a[source] = 0\n",
    "            empty_locs[i] = source\n",
    "        \n",
    "        num_empty2 = np.sum(a==0)\n",
    "        assert num_empty == num_empty2\n",
    "        \n",
    "        return np.nanmean(frac_same)"
   ]
  },
  {
   "cell_type": "code",
   "execution_count": 35,
   "id": "9aabb446-54d5-4c5b-9d87-d399de967848",
   "metadata": {},
   "outputs": [
    {
     "data": {
      "text/plain": [
       "0.5101190476190476"
      ]
     },
     "execution_count": 35,
     "metadata": {},
     "output_type": "execute_result"
    },
    {
     "data": {
      "image/png": "[encoded data removed]",
      "text/plain": [
       "<Figure size 432x288 with 1 Axes>"
      ]
     },
     "metadata": {},
     "output_type": "display_data"
    }
   ],
   "source": [
    "grid = Schelling(n=15, p=0.3)\n",
    "grid.draw()\n",
    "grid.segregation()"
   ]
  },
  {
   "cell_type": "code",
   "execution_count": 36,
   "id": "41574d46-f0ad-4173-978e-36bff16854c3",
   "metadata": {},
   "outputs": [
    {
     "data": {
      "image/png": "[encoded data removed]",
      "text/plain": [
       "<Figure size 432x288 with 1 Axes>"
      ]
     },
     "metadata": {},
     "output_type": "display_data"
    }
   ],
   "source": [
    "grid = Schelling(n=100, p=0.3)\n",
    "grid.animate(frames=20, interval=0.1)"
   ]
  },
  {
   "cell_type": "code",
   "execution_count": 37,
   "id": "9098997a-397f-4fe4-95db-c6081dfd326c",
   "metadata": {},
   "outputs": [
    {
     "data": {
      "image/png": "[encoded data removed]",
      "text/plain": [
       "<Figure size 720x288 with 3 Axes>"
      ]
     },
     "metadata": {},
     "output_type": "display_data"
    }
   ],
   "source": [
    "from utils import three_frame\n",
    "\n",
    "grid = Schelling(n=100, p=0.3)\n",
    "three_frame(grid, [0, 2, 8])"
   ]
  },
  {
   "cell_type": "code",
   "execution_count": 45,
   "id": "086302c1-f407-4783-b7f6-503502d9a0d7",
   "metadata": {},
   "outputs": [],
   "source": [
    "class Sugarscape(Cell2D):\n",
    "    \"\"\"Represents an Epstein-Axtell Sugarscape.\"\"\"\n",
    "    \n",
    "    def __init__(self, n, **params):\n",
    "        \"\"\"Initializes the attributes.\n",
    "\n",
    "        n: number of rows and columns\n",
    "        params: dictionary of parameters\n",
    "        \"\"\"\n",
    "        self.n = n\n",
    "        self.params = params\n",
    "        \n",
    "        # track variables\n",
    "        self.agent_count_seq = []\n",
    "    \n",
    "        # make the capacity array\n",
    "        self.capacity = self.make_capacity()\n",
    "        \n",
    "        # initially all cells are at capacity\n",
    "        self.array = self.capacity.copy()\n",
    "        \n",
    "        # make the agents\n",
    "        self.make_agents()\n",
    "        \n",
    "    def make_capacity(self):\n",
    "        \"\"\"Makes the capacity array.\"\"\"\n",
    "        \n",
    "        # compute the distance of each cell from the peaks. \n",
    "        dist1 = distances_from(self.n, 15, 15)\n",
    "        dist2 = distances_from(self.n, 35, 35)\n",
    "        dist = np.minimum(dist1, dist2)\n",
    "        \n",
    "        # cells in the capacity array are set according to dist from peak\n",
    "        bins = [21, 16, 11, 6]\n",
    "        a = np.digitize(dist, bins)\n",
    "        return a\n",
    "        \n",
    "    def make_agents(self):\n",
    "        \"\"\"Makes the agents.\"\"\"\n",
    "        \n",
    "        # determine where the agents start and generate locations\n",
    "        n, m = self.params.get('starting_box', self.array.shape)\n",
    "        locs = make_locs(n, m)\n",
    "        np.random.shuffle(locs)\n",
    "\n",
    "        # make the agents\n",
    "        num_agents = self.params.get('num_agents', 400)\n",
    "        assert(num_agents <= len(locs))\n",
    "        self.agents = [Agent(locs[i], self.params) \n",
    "                       for i in range(num_agents)]\n",
    "        \n",
    "        # keep track of which cells are occupied\n",
    "        self.occupied = set(agent.loc for agent in self.agents)\n",
    "            \n",
    "    def grow(self):\n",
    "        \"\"\"Adds sugar to all cells and caps them by capacity.\"\"\"\n",
    "        grow_rate = self.params.get('grow_rate', 1)\n",
    "        self.array = np.minimum(self.array + grow_rate, self.capacity)\n",
    "        \n",
    "    def look_and_move(self, center, vision):\n",
    "        \"\"\"Finds the visible cell with the most sugar.\n",
    "        \n",
    "        center: tuple, coordinates of the center cell\n",
    "        vision: int, maximum visible distance\n",
    "        \n",
    "        returns: tuple, coordinates of best cell\n",
    "        \"\"\"\n",
    "        # find all visible cells\n",
    "        locs = make_visible_locs(vision)\n",
    "        locs = (locs + center) % self.n\n",
    "        \n",
    "        # convert rows of the array to tuples\n",
    "        locs = [tuple(loc) for loc in locs]\n",
    "        \n",
    "        # select unoccupied cells\n",
    "        empty_locs = [loc for loc in locs if loc not in self.occupied]\n",
    "        \n",
    "        # if all visible cells are occupied, stay put\n",
    "        if len(empty_locs) == 0:\n",
    "            return center\n",
    "        \n",
    "        # look up the sugar level in each cell\n",
    "        t = [self.array[loc] for loc in empty_locs]\n",
    "        \n",
    "        # find the best one and return it\n",
    "        # (in case of tie, argmax returns the first, which\n",
    "        # is the closest)\n",
    "        i = np.argmax(t)\n",
    "        return empty_locs[i]\n",
    "    \n",
    "    def harvest(self, loc):\n",
    "        \"\"\"Removes and returns the sugar from `loc`.\n",
    "        \n",
    "        loc: tuple coordinates\n",
    "        \"\"\"\n",
    "        sugar = self.array[loc]\n",
    "        self.array[loc] = 0\n",
    "        return sugar\n",
    "    \n",
    "    def step(self):\n",
    "        \"\"\"Executes one time step.\"\"\"\n",
    "        replace = self.params.get('replace', False)\n",
    "        \n",
    "        # loop through the agents in random order\n",
    "        random_order = np.random.permutation(self.agents)\n",
    "        for agent in random_order:\n",
    "            \n",
    "            # mark the current cell unoccupied\n",
    "            self.occupied.remove(agent.loc)\n",
    "            \n",
    "            # execute one step\n",
    "            agent.step(self)\n",
    "\n",
    "            # if the agent is dead, remove from the list\n",
    "            if agent.is_starving() or agent.is_old():\n",
    "                self.agents.remove(agent)\n",
    "                if replace:\n",
    "                    self.add_agent()\n",
    "            else:\n",
    "                # otherwise mark its cell occupied\n",
    "                self.occupied.add(agent.loc)\n",
    "\n",
    "        # update the time series\n",
    "        self.agent_count_seq.append(len(self.agents))\n",
    "        \n",
    "        # grow back some sugar\n",
    "        self.grow()\n",
    "        return len(self.agents)\n",
    "    \n",
    "    def add_agent(self):\n",
    "        \"\"\"Generates a new random agent.\n",
    "                \n",
    "        returns: new Agent\n",
    "        \"\"\"\n",
    "        new_agent = Agent(self.random_loc(), self.params)\n",
    "        self.agents.append(new_agent)\n",
    "        self.occupied.add(new_agent.loc)\n",
    "        return new_agent\n",
    "    \n",
    "    def random_loc(self):\n",
    "        \"\"\"Choose a random unoccupied cell.\n",
    "        \n",
    "        returns: tuple coordinates\n",
    "        \"\"\"\n",
    "        while True:\n",
    "            loc = tuple(np.random.randint(self.n, size=2))\n",
    "            if loc not in self.occupied:\n",
    "                return loc\n",
    "\n",
    "    def draw(self):\n",
    "        \"\"\"Draws the cells.\"\"\"\n",
    "        draw_array(self.array, cmap='YlOrRd', vmax=9, origin='lower')\n",
    "        \n",
    "        # draw the agents\n",
    "        xs, ys = self.get_coords()\n",
    "        self.points = plt.plot(xs, ys, '.', color='red')[0]\n",
    "    \n",
    "    def get_coords(self):\n",
    "        \"\"\"Gets the coordinates of the agents.\n",
    "        \n",
    "        Transforms from (row, col) to (x, y).\n",
    "        \n",
    "        returns: tuple of sequences, (xs, ys)\n",
    "        \"\"\"\n",
    "        agents = self.agents\n",
    "        rows, cols = np.transpose([agent.loc for agent in agents])\n",
    "        xs = cols + 0.5\n",
    "        ys = rows + 0.5\n",
    "        return xs, ys"
   ]
  },
  {
   "cell_type": "code",
   "execution_count": 46,
   "id": "0adfa8da-edd5-423d-b8e0-fbcacc4fd318",
   "metadata": {},
   "outputs": [],
   "source": [
    "class Agent:\n",
    "    \n",
    "    def __init__(self, loc, params):\n",
    "        \"\"\"Creates a new agent at the given location.\n",
    "        \n",
    "        loc: tuple coordinates\n",
    "        params: dictionary of parameters\n",
    "        \"\"\"\n",
    "        self.loc = tuple(loc)\n",
    "        self.age = 0\n",
    "\n",
    "        # extract the parameters\n",
    "        max_vision = params.get('max_vision', 6)\n",
    "        max_metabolism = params.get('max_metabolism', 4)\n",
    "        min_lifespan = params.get('min_lifespan', 10000)\n",
    "        max_lifespan = params.get('max_lifespan', 10000)\n",
    "        min_sugar = params.get('min_sugar', 5)\n",
    "        max_sugar = params.get('max_sugar', 25)\n",
    "        \n",
    "        # choose attributes\n",
    "        self.vision = np.random.randint(1, max_vision+1)\n",
    "        self.metabolism = np.random.uniform(1, max_metabolism)\n",
    "        self.lifespan = np.random.uniform(min_lifespan, max_lifespan)\n",
    "        self.sugar = np.random.uniform(min_sugar, max_sugar)\n",
    "\n",
    "    def step(self, env):\n",
    "        \"\"\"Look around, move, and harvest.\n",
    "        \n",
    "        env: Sugarscape\n",
    "        \"\"\"\n",
    "        self.loc = env.look_and_move(self.loc, self.vision)\n",
    "        self.sugar += env.harvest(self.loc) - self.metabolism\n",
    "        self.age += 1\n",
    "\n",
    "    def is_starving(self):\n",
    "        \"\"\"Checks if sugar has gone negative.\"\"\"\n",
    "        return self.sugar < 0\n",
    "    \n",
    "    def is_old(self):\n",
    "        \"\"\"Checks if lifespan is exceeded.\"\"\"\n",
    "        return self.age > self.lifespan"
   ]
  },
  {
   "cell_type": "code",
   "execution_count": 47,
   "id": "c57898c6-fb88-46fb-af60-edc0a712bf94",
   "metadata": {},
   "outputs": [],
   "source": [
    "\n",
    "class EvoSugarscape(Sugarscape):\n",
    "    \"\"\"Represents an Epstein-Axtell Sugarscape.\"\"\"\n",
    "    \n",
    "    def __init__(self, n, **params):\n",
    "        \"\"\"Initializes the attributes.\n",
    "\n",
    "        n: number of rows and columns\n",
    "        params: dictionary of parameters\n",
    "        \"\"\"\n",
    "        Sugarscape.__init__(self, n, **params)\n",
    "        \n",
    "        # track variables\n",
    "        self.avg_vision_seq = []\n",
    "        self.avg_metabolism_seq = []\n",
    "    \n",
    "    def step(self):\n",
    "        \"\"\"Executes one time step.\"\"\"\n",
    "        Sugarscape.step(self)\n",
    "        \n",
    "        # average vision\n",
    "        avg_vision = np.mean([agent.vision for agent in self.agents])\n",
    "        self.avg_vision_seq.append(avg_vision)\n",
    "        \n",
    "        # average metabolism\n",
    "        avg_metabolism = np.mean([agent.metabolism for agent in self.agents])\n",
    "        self.avg_metabolism_seq.append(avg_metabolism)\n",
    "        \n",
    "        # add an agent\n",
    "        add_agents = self.params.get('add_agents', False)\n",
    "        if add_agents:\n",
    "            self.add_agent()\n",
    "        \n",
    "        return len(self.agents)"
   ]
  },
  {
   "cell_type": "code",
   "execution_count": 48,
   "id": "37643eda-9a4d-4544-8795-b76a2eb4883d",
   "metadata": {},
   "outputs": [],
   "source": [
    "np.random.seed(25)\n",
    "\n",
    "env = EvoSugarscape(50, num_agents=300)\n",
    "env.loop(300)\n",
    "\n",
    "plt.plot(env.agent_count_seq)\n",
    "decorate(xlabel='Time steps', ylabel='Agent count')"
   ]
  },
  {
   "cell_type": "code",
   "execution_count": 49,
   "id": "dec4650a-af92-4d80-af84-dd5af7d27a30",
   "metadata": {},
   "outputs": [
    {
     "data": {
      "image/png": "[encoded data removed]",
      "text/plain": [
       "<Figure size 432x288 with 1 Axes>"
      ]
     },
     "metadata": {
      "needs_background": "light"
     },
     "output_type": "display_data"
    }
   ],
   "source": [
    "plt.plot(env.avg_metabolism_seq)\n",
    "decorate(xlabel='Time steps', ylabel='Average metabolism')"
   ]
  },
  {
   "cell_type": "code",
   "execution_count": 50,
   "id": "89dfaa65-3150-4187-a766-049208f85e00",
   "metadata": {},
   "outputs": [
    {
     "data": {
      "image/png": "[encoded data removed]",
      "text/plain": [
       "<Figure size 432x288 with 1 Axes>"
      ]
     },
     "metadata": {
      "needs_background": "light"
     },
     "output_type": "display_data"
    }
   ],
   "source": [
    "plt.plot(env.avg_vision_seq)\n",
    "decorate(xlabel='Time steps', ylabel='Average vision')"
   ]
  },
  {
   "cell_type": "code",
   "execution_count": 51,
   "id": "d6fdff38-5786-47dc-a56b-ce4dce8f7bc4",
   "metadata": {},
   "outputs": [],
   "source": [
    "np.random.seed(25)\n",
    "\n",
    "env = EvoSugarscape(50, num_agents=300, add_agents=True)\n",
    "env.loop(300)"
   ]
  },
  {
   "cell_type": "code",
   "execution_count": 52,
   "id": "1f8da2e9-162c-4ca8-b440-43fa3348fa41",
   "metadata": {},
   "outputs": [
    {
     "data": {
      "image/png": "[encoded data removed]",
      "text/plain": [
       "<Figure size 432x288 with 1 Axes>"
      ]
     },
     "metadata": {
      "needs_background": "light"
     },
     "output_type": "display_data"
    }
   ],
   "source": [
    "plt.plot(env.agent_count_seq)\n",
    "decorate(xlabel='Time steps', ylabel='Agent count')\n",
    "\n",
    "plt.plot(env.avg_metabolism_seq)\n",
    "decorate(xlabel='Time steps', ylabel='Average metabolism')"
   ]
  },
  {
   "cell_type": "code",
   "execution_count": 53,
   "id": "237ac5fa-e704-4331-8e61-14bfb79d96f7",
   "metadata": {},
   "outputs": [
    {
     "data": {
      "image/png": "[encoded data removed]",
      "text/plain": [
       "<Figure size 432x288 with 1 Axes>"
      ]
     },
     "metadata": {
      "needs_background": "light"
     },
     "output_type": "display_data"
    }
   ],
   "source": [
    "plt.plot(env.avg_vision_seq)\n",
    "decorate(xlabel='Time steps', ylabel='Average vision')"
   ]
  },
  {
   "cell_type": "code",
   "execution_count": null,
   "id": "ed9a4bd6-e5aa-4501-aa90-b93f303f2b52",
   "metadata": {},
   "outputs": [],
   "source": []
  }
 ],
 "metadata": {
  "kernelspec": {
   "display_name": "Python 3",
   "language": "python",
   "name": "python3"
  },
  "language_info": {
   "codemirror_mode": {
    "name": "ipython",
    "version": 3
   },
   "file_extension": ".py",
   "mimetype": "text/x-python",
   "name": "python",
   "nbconvert_exporter": "python",
   "pygments_lexer": "ipython3",
   "version": "3.8.8"
  }
 },
 "nbformat": 4,
 "nbformat_minor": 5
}
